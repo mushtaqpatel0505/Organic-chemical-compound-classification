{
 "cells": [
  {
   "cell_type": "markdown",
   "metadata": {},
   "source": [
    "# Credicxo Machine Learning Task"
   ]
  },
  {
   "cell_type": "markdown",
   "metadata": {},
   "source": [
    "Data Source: https://drive.google.com/file/d/1pZhzZnaPi74aKCQImSPrzrTxWzVeE0qv/view?usp=sharing\n",
    "\n",
    "The dataset is available in .csv forms\n",
    "\n",
    "### Data Information\n",
    "The given dataset contains details about organic chemical compounds including their chemical features, isomeric conformation,  names and the classes in which they are classified. The compounds are classified as either ‘Musk’ or ‘Non-Musk’ compounds. \n",
    "\n",
    " Number of records : 6598\n",
    " \n",
    " Number of Attributes/Columns in data: 170\n",
    "\n",
    "### Attribute Information:\n",
    "\n",
    "1. ID               : unique id\n",
    "2. molecule_name    : name of the molecule\n",
    "3. conformation_name: unique name \n",
    "4. class  and etc.  : binary class(0 or 1)\n",
    "\n",
    "### Objective:\n",
    "\n",
    "Given a record, determine whether the record is Musk (1) or Non-Musk (0).\n",
    "\n",
    "### Action Plan\n",
    "\n",
    "#### 1. Undersatnd the data\n",
    "- Datatypes of features\n",
    "\n",
    "   - 166 features have 'int64' and 2 have 'object'\n",
    "   \n",
    "- Description of data(unique, max, min, mean, count and etc)\n",
    "   \n",
    "   - 102 types of molecules\n",
    "   \n",
    "   - NON-MUSK-j146 comes 1044 times\n",
    "   \n",
    "- Checking the data (Balanced or Imbalanced)\n",
    "\n",
    "   - Imbalanced\n",
    "   \n",
    "   - class '1' is minority(1017)\n",
    "   \n",
    "- Describe the features\n",
    "\n",
    "   - scatter plot, pdf, box-plot\n",
    "\n",
    "#### 2.Pre-processing\n",
    "- Null Value :  No Null values\n",
    "\n",
    "- Duplicate rows  : No duplicate rows\n",
    "\n",
    "- Duplicate features/columns  : No duplicate features\n",
    "\n",
    "- Single value in columns across all rows : No single value\n",
    "\n",
    "- Converting categorical features into one hot encoding(molecule_name)\n",
    "\n",
    "- Standardized the data\n",
    "\n",
    "#### 3. Train- Test split\n",
    "- 80:20 ratio train-test split\n",
    "\n",
    "- 5278 records in Train and 1320 in Test set\n",
    "\n",
    "#### 4. Model\n",
    "\n",
    "-  Uses Xgboost \n",
    "  - The test log loss is: 0.05\n",
    "  - The Test accuracy of the xgbdt classifier is 98.33%\n",
    "  - F1 Score:  0.9458\n",
    "  \n",
    "- 2 layer Neural network with 32 neurons in each layer\n",
    "  - Test Loss: 1.7620610411871562e-05\n",
    "  - Test Accuracy: 0.999\n",
    "  - F1 Score:  1.0"
   ]
  },
  {
   "cell_type": "code",
   "execution_count": null,
   "metadata": {},
   "outputs": [],
   "source": []
  },
  {
   "cell_type": "code",
   "execution_count": null,
   "metadata": {},
   "outputs": [],
   "source": []
  },
  {
   "cell_type": "markdown",
   "metadata": {},
   "source": [
    "## Importing Libraries"
   ]
  },
  {
   "cell_type": "code",
   "execution_count": 49,
   "metadata": {},
   "outputs": [],
   "source": [
    "%matplotlib inline\n",
    "import pandas as pd\n",
    "import numpy as np\n",
    "import matplotlib.pyplot as plt\n",
    "from scipy import stats\n",
    "import seaborn as sns\n",
    "import time\n",
    "import xgboost as xgb\n",
    "from sklearn.metrics.classification import accuracy_score, log_loss\n",
    "from sklearn.metrics import f1_score, confusion_matrix, accuracy_score\n",
    "from sklearn.model_selection import RandomizedSearchCV\n",
    "from xgboost import plot_importance\n",
    "from sklearn.naive_bayes import MultinomialNB\n",
    "from sklearn.model_selection import GridSearchCV\n",
    "import warnings\n",
    "warnings.filterwarnings('ignore')"
   ]
  },
  {
   "cell_type": "markdown",
   "metadata": {},
   "source": [
    "## Loading Data"
   ]
  },
  {
   "cell_type": "code",
   "execution_count": 2,
   "metadata": {},
   "outputs": [
    {
     "data": {
      "text/html": [
       "<div>\n",
       "<style scoped>\n",
       "    .dataframe tbody tr th:only-of-type {\n",
       "        vertical-align: middle;\n",
       "    }\n",
       "\n",
       "    .dataframe tbody tr th {\n",
       "        vertical-align: top;\n",
       "    }\n",
       "\n",
       "    .dataframe thead th {\n",
       "        text-align: right;\n",
       "    }\n",
       "</style>\n",
       "<table border=\"1\" class=\"dataframe\">\n",
       "  <thead>\n",
       "    <tr style=\"text-align: right;\">\n",
       "      <th></th>\n",
       "      <th>ID</th>\n",
       "      <th>molecule_name</th>\n",
       "      <th>conformation_name</th>\n",
       "      <th>f1</th>\n",
       "      <th>f2</th>\n",
       "      <th>f3</th>\n",
       "      <th>f4</th>\n",
       "      <th>f5</th>\n",
       "      <th>f6</th>\n",
       "      <th>f7</th>\n",
       "      <th>...</th>\n",
       "      <th>f158</th>\n",
       "      <th>f159</th>\n",
       "      <th>f160</th>\n",
       "      <th>f161</th>\n",
       "      <th>f162</th>\n",
       "      <th>f163</th>\n",
       "      <th>f164</th>\n",
       "      <th>f165</th>\n",
       "      <th>f166</th>\n",
       "      <th>class</th>\n",
       "    </tr>\n",
       "  </thead>\n",
       "  <tbody>\n",
       "    <tr>\n",
       "      <th>0</th>\n",
       "      <td>1</td>\n",
       "      <td>MUSK-211</td>\n",
       "      <td>211_1+1</td>\n",
       "      <td>46</td>\n",
       "      <td>-108</td>\n",
       "      <td>-60</td>\n",
       "      <td>-69</td>\n",
       "      <td>-117</td>\n",
       "      <td>49</td>\n",
       "      <td>38</td>\n",
       "      <td>...</td>\n",
       "      <td>-308</td>\n",
       "      <td>52</td>\n",
       "      <td>-7</td>\n",
       "      <td>39</td>\n",
       "      <td>126</td>\n",
       "      <td>156</td>\n",
       "      <td>-50</td>\n",
       "      <td>-112</td>\n",
       "      <td>96</td>\n",
       "      <td>1</td>\n",
       "    </tr>\n",
       "    <tr>\n",
       "      <th>1</th>\n",
       "      <td>2</td>\n",
       "      <td>MUSK-211</td>\n",
       "      <td>211_1+10</td>\n",
       "      <td>41</td>\n",
       "      <td>-188</td>\n",
       "      <td>-145</td>\n",
       "      <td>22</td>\n",
       "      <td>-117</td>\n",
       "      <td>-6</td>\n",
       "      <td>57</td>\n",
       "      <td>...</td>\n",
       "      <td>-59</td>\n",
       "      <td>-2</td>\n",
       "      <td>52</td>\n",
       "      <td>103</td>\n",
       "      <td>136</td>\n",
       "      <td>169</td>\n",
       "      <td>-61</td>\n",
       "      <td>-136</td>\n",
       "      <td>79</td>\n",
       "      <td>1</td>\n",
       "    </tr>\n",
       "    <tr>\n",
       "      <th>2</th>\n",
       "      <td>3</td>\n",
       "      <td>MUSK-211</td>\n",
       "      <td>211_1+11</td>\n",
       "      <td>46</td>\n",
       "      <td>-194</td>\n",
       "      <td>-145</td>\n",
       "      <td>28</td>\n",
       "      <td>-117</td>\n",
       "      <td>73</td>\n",
       "      <td>57</td>\n",
       "      <td>...</td>\n",
       "      <td>-134</td>\n",
       "      <td>-154</td>\n",
       "      <td>57</td>\n",
       "      <td>143</td>\n",
       "      <td>142</td>\n",
       "      <td>165</td>\n",
       "      <td>-67</td>\n",
       "      <td>-145</td>\n",
       "      <td>39</td>\n",
       "      <td>1</td>\n",
       "    </tr>\n",
       "    <tr>\n",
       "      <th>3</th>\n",
       "      <td>4</td>\n",
       "      <td>MUSK-211</td>\n",
       "      <td>211_1+12</td>\n",
       "      <td>41</td>\n",
       "      <td>-188</td>\n",
       "      <td>-145</td>\n",
       "      <td>22</td>\n",
       "      <td>-117</td>\n",
       "      <td>-7</td>\n",
       "      <td>57</td>\n",
       "      <td>...</td>\n",
       "      <td>-60</td>\n",
       "      <td>-4</td>\n",
       "      <td>52</td>\n",
       "      <td>104</td>\n",
       "      <td>136</td>\n",
       "      <td>168</td>\n",
       "      <td>-60</td>\n",
       "      <td>-135</td>\n",
       "      <td>80</td>\n",
       "      <td>1</td>\n",
       "    </tr>\n",
       "    <tr>\n",
       "      <th>4</th>\n",
       "      <td>5</td>\n",
       "      <td>MUSK-211</td>\n",
       "      <td>211_1+13</td>\n",
       "      <td>41</td>\n",
       "      <td>-188</td>\n",
       "      <td>-145</td>\n",
       "      <td>22</td>\n",
       "      <td>-117</td>\n",
       "      <td>-7</td>\n",
       "      <td>57</td>\n",
       "      <td>...</td>\n",
       "      <td>-60</td>\n",
       "      <td>-4</td>\n",
       "      <td>52</td>\n",
       "      <td>104</td>\n",
       "      <td>137</td>\n",
       "      <td>168</td>\n",
       "      <td>-60</td>\n",
       "      <td>-135</td>\n",
       "      <td>80</td>\n",
       "      <td>1</td>\n",
       "    </tr>\n",
       "  </tbody>\n",
       "</table>\n",
       "<p>5 rows × 170 columns</p>\n",
       "</div>"
      ],
      "text/plain": [
       "   ID molecule_name conformation_name  f1   f2   f3  f4   f5  f6  f7  ...  \\\n",
       "0   1      MUSK-211           211_1+1  46 -108  -60 -69 -117  49  38  ...   \n",
       "1   2      MUSK-211          211_1+10  41 -188 -145  22 -117  -6  57  ...   \n",
       "2   3      MUSK-211          211_1+11  46 -194 -145  28 -117  73  57  ...   \n",
       "3   4      MUSK-211          211_1+12  41 -188 -145  22 -117  -7  57  ...   \n",
       "4   5      MUSK-211          211_1+13  41 -188 -145  22 -117  -7  57  ...   \n",
       "\n",
       "   f158  f159  f160  f161  f162  f163  f164  f165  f166  class  \n",
       "0  -308    52    -7    39   126   156   -50  -112    96      1  \n",
       "1   -59    -2    52   103   136   169   -61  -136    79      1  \n",
       "2  -134  -154    57   143   142   165   -67  -145    39      1  \n",
       "3   -60    -4    52   104   136   168   -60  -135    80      1  \n",
       "4   -60    -4    52   104   137   168   -60  -135    80      1  \n",
       "\n",
       "[5 rows x 170 columns]"
      ]
     },
     "execution_count": 2,
     "metadata": {},
     "output_type": "execute_result"
    }
   ],
   "source": [
    "data = pd.read_csv('musk_csv.csv')\n",
    "data.head()"
   ]
  },
  {
   "cell_type": "markdown",
   "metadata": {},
   "source": [
    "## Understanding the data"
   ]
  },
  {
   "cell_type": "code",
   "execution_count": 3,
   "metadata": {},
   "outputs": [
    {
     "name": "stdout",
     "output_type": "stream",
     "text": [
      "(6598, 170)\n"
     ]
    }
   ],
   "source": [
    "# Total no of records\n",
    "print(data.shape)"
   ]
  },
  {
   "cell_type": "markdown",
   "metadata": {},
   "source": [
    " There are 6598 records and 168 variables or features(excluding ID and class)"
   ]
  },
  {
   "cell_type": "code",
   "execution_count": 4,
   "metadata": {},
   "outputs": [
    {
     "name": "stdout",
     "output_type": "stream",
     "text": [
      "Index(['ID', 'molecule_name', 'conformation_name', 'f1', 'f2', 'f3', 'f4',\n",
      "       'f5', 'f6', 'f7',\n",
      "       ...\n",
      "       'f158', 'f159', 'f160', 'f161', 'f162', 'f163', 'f164', 'f165', 'f166',\n",
      "       'class'],\n",
      "      dtype='object', length=170)\n"
     ]
    }
   ],
   "source": [
    "#Number of column in our data\n",
    "print(data.columns)"
   ]
  },
  {
   "cell_type": "code",
   "execution_count": 5,
   "metadata": {},
   "outputs": [
    {
     "name": "stdout",
     "output_type": "stream",
     "text": [
      "<class 'pandas.core.frame.DataFrame'>\n",
      "RangeIndex: 6598 entries, 0 to 6597\n",
      "Columns: 170 entries, ID to class\n",
      "dtypes: int64(168), object(2)\n",
      "memory usage: 8.6+ MB\n",
      "None\n"
     ]
    }
   ],
   "source": [
    "# Information about datatypes of columns\n",
    "print(data.info())"
   ]
  },
  {
   "cell_type": "markdown",
   "metadata": {},
   "source": [
    "168 columns have datatype as 'int64'  and 2 have datatype as 'object'"
   ]
  },
  {
   "cell_type": "code",
   "execution_count": 6,
   "metadata": {},
   "outputs": [
    {
     "data": {
      "text/html": [
       "<div>\n",
       "<style scoped>\n",
       "    .dataframe tbody tr th:only-of-type {\n",
       "        vertical-align: middle;\n",
       "    }\n",
       "\n",
       "    .dataframe tbody tr th {\n",
       "        vertical-align: top;\n",
       "    }\n",
       "\n",
       "    .dataframe thead th {\n",
       "        text-align: right;\n",
       "    }\n",
       "</style>\n",
       "<table border=\"1\" class=\"dataframe\">\n",
       "  <thead>\n",
       "    <tr style=\"text-align: right;\">\n",
       "      <th></th>\n",
       "      <th>ID</th>\n",
       "      <th>molecule_name</th>\n",
       "      <th>conformation_name</th>\n",
       "      <th>f1</th>\n",
       "      <th>f2</th>\n",
       "      <th>f3</th>\n",
       "      <th>f4</th>\n",
       "      <th>f5</th>\n",
       "      <th>f6</th>\n",
       "      <th>f7</th>\n",
       "      <th>...</th>\n",
       "      <th>f158</th>\n",
       "      <th>f159</th>\n",
       "      <th>f160</th>\n",
       "      <th>f161</th>\n",
       "      <th>f162</th>\n",
       "      <th>f163</th>\n",
       "      <th>f164</th>\n",
       "      <th>f165</th>\n",
       "      <th>f166</th>\n",
       "      <th>class</th>\n",
       "    </tr>\n",
       "  </thead>\n",
       "  <tbody>\n",
       "    <tr>\n",
       "      <th>count</th>\n",
       "      <td>6598.00000</td>\n",
       "      <td>6598</td>\n",
       "      <td>6598</td>\n",
       "      <td>6598.000000</td>\n",
       "      <td>6598.000000</td>\n",
       "      <td>6598.000000</td>\n",
       "      <td>6598.000000</td>\n",
       "      <td>6598.000000</td>\n",
       "      <td>6598.000000</td>\n",
       "      <td>6598.000000</td>\n",
       "      <td>...</td>\n",
       "      <td>6598.000000</td>\n",
       "      <td>6598.000000</td>\n",
       "      <td>6598.000000</td>\n",
       "      <td>6598.000000</td>\n",
       "      <td>6598.000000</td>\n",
       "      <td>6598.000000</td>\n",
       "      <td>6598.000000</td>\n",
       "      <td>6598.000000</td>\n",
       "      <td>6598.000000</td>\n",
       "      <td>6598.000000</td>\n",
       "    </tr>\n",
       "    <tr>\n",
       "      <th>unique</th>\n",
       "      <td>NaN</td>\n",
       "      <td>102</td>\n",
       "      <td>6598</td>\n",
       "      <td>NaN</td>\n",
       "      <td>NaN</td>\n",
       "      <td>NaN</td>\n",
       "      <td>NaN</td>\n",
       "      <td>NaN</td>\n",
       "      <td>NaN</td>\n",
       "      <td>NaN</td>\n",
       "      <td>...</td>\n",
       "      <td>NaN</td>\n",
       "      <td>NaN</td>\n",
       "      <td>NaN</td>\n",
       "      <td>NaN</td>\n",
       "      <td>NaN</td>\n",
       "      <td>NaN</td>\n",
       "      <td>NaN</td>\n",
       "      <td>NaN</td>\n",
       "      <td>NaN</td>\n",
       "      <td>NaN</td>\n",
       "    </tr>\n",
       "    <tr>\n",
       "      <th>top</th>\n",
       "      <td>NaN</td>\n",
       "      <td>NON-MUSK-j146</td>\n",
       "      <td>j147_1+87</td>\n",
       "      <td>NaN</td>\n",
       "      <td>NaN</td>\n",
       "      <td>NaN</td>\n",
       "      <td>NaN</td>\n",
       "      <td>NaN</td>\n",
       "      <td>NaN</td>\n",
       "      <td>NaN</td>\n",
       "      <td>...</td>\n",
       "      <td>NaN</td>\n",
       "      <td>NaN</td>\n",
       "      <td>NaN</td>\n",
       "      <td>NaN</td>\n",
       "      <td>NaN</td>\n",
       "      <td>NaN</td>\n",
       "      <td>NaN</td>\n",
       "      <td>NaN</td>\n",
       "      <td>NaN</td>\n",
       "      <td>NaN</td>\n",
       "    </tr>\n",
       "    <tr>\n",
       "      <th>freq</th>\n",
       "      <td>NaN</td>\n",
       "      <td>1044</td>\n",
       "      <td>1</td>\n",
       "      <td>NaN</td>\n",
       "      <td>NaN</td>\n",
       "      <td>NaN</td>\n",
       "      <td>NaN</td>\n",
       "      <td>NaN</td>\n",
       "      <td>NaN</td>\n",
       "      <td>NaN</td>\n",
       "      <td>...</td>\n",
       "      <td>NaN</td>\n",
       "      <td>NaN</td>\n",
       "      <td>NaN</td>\n",
       "      <td>NaN</td>\n",
       "      <td>NaN</td>\n",
       "      <td>NaN</td>\n",
       "      <td>NaN</td>\n",
       "      <td>NaN</td>\n",
       "      <td>NaN</td>\n",
       "      <td>NaN</td>\n",
       "    </tr>\n",
       "    <tr>\n",
       "      <th>mean</th>\n",
       "      <td>3299.50000</td>\n",
       "      <td>NaN</td>\n",
       "      <td>NaN</td>\n",
       "      <td>58.945135</td>\n",
       "      <td>-119.128524</td>\n",
       "      <td>-73.146560</td>\n",
       "      <td>-0.628372</td>\n",
       "      <td>-103.533495</td>\n",
       "      <td>18.359806</td>\n",
       "      <td>-14.108821</td>\n",
       "      <td>...</td>\n",
       "      <td>-184.798272</td>\n",
       "      <td>-75.795696</td>\n",
       "      <td>-26.073204</td>\n",
       "      <td>64.616702</td>\n",
       "      <td>112.037739</td>\n",
       "      <td>201.760230</td>\n",
       "      <td>-47.488330</td>\n",
       "      <td>-150.259927</td>\n",
       "      <td>41.770233</td>\n",
       "      <td>0.154138</td>\n",
       "    </tr>\n",
       "    <tr>\n",
       "      <th>std</th>\n",
       "      <td>1904.82287</td>\n",
       "      <td>NaN</td>\n",
       "      <td>NaN</td>\n",
       "      <td>53.249007</td>\n",
       "      <td>90.813375</td>\n",
       "      <td>67.956235</td>\n",
       "      <td>80.444617</td>\n",
       "      <td>64.387559</td>\n",
       "      <td>80.593655</td>\n",
       "      <td>115.315673</td>\n",
       "      <td>...</td>\n",
       "      <td>107.819514</td>\n",
       "      <td>127.861271</td>\n",
       "      <td>69.727964</td>\n",
       "      <td>100.861935</td>\n",
       "      <td>72.835040</td>\n",
       "      <td>59.526751</td>\n",
       "      <td>55.069365</td>\n",
       "      <td>76.019023</td>\n",
       "      <td>94.116085</td>\n",
       "      <td>0.361108</td>\n",
       "    </tr>\n",
       "    <tr>\n",
       "      <th>min</th>\n",
       "      <td>1.00000</td>\n",
       "      <td>NaN</td>\n",
       "      <td>NaN</td>\n",
       "      <td>-31.000000</td>\n",
       "      <td>-199.000000</td>\n",
       "      <td>-167.000000</td>\n",
       "      <td>-114.000000</td>\n",
       "      <td>-118.000000</td>\n",
       "      <td>-183.000000</td>\n",
       "      <td>-171.000000</td>\n",
       "      <td>...</td>\n",
       "      <td>-328.000000</td>\n",
       "      <td>-219.000000</td>\n",
       "      <td>-136.000000</td>\n",
       "      <td>-120.000000</td>\n",
       "      <td>-69.000000</td>\n",
       "      <td>73.000000</td>\n",
       "      <td>-289.000000</td>\n",
       "      <td>-428.000000</td>\n",
       "      <td>-471.000000</td>\n",
       "      <td>0.000000</td>\n",
       "    </tr>\n",
       "    <tr>\n",
       "      <th>25%</th>\n",
       "      <td>1650.25000</td>\n",
       "      <td>NaN</td>\n",
       "      <td>NaN</td>\n",
       "      <td>37.000000</td>\n",
       "      <td>-193.000000</td>\n",
       "      <td>-137.000000</td>\n",
       "      <td>-70.000000</td>\n",
       "      <td>-117.000000</td>\n",
       "      <td>-28.000000</td>\n",
       "      <td>-159.000000</td>\n",
       "      <td>...</td>\n",
       "      <td>-272.000000</td>\n",
       "      <td>-205.000000</td>\n",
       "      <td>-70.000000</td>\n",
       "      <td>-18.000000</td>\n",
       "      <td>71.000000</td>\n",
       "      <td>166.000000</td>\n",
       "      <td>-68.000000</td>\n",
       "      <td>-179.000000</td>\n",
       "      <td>-9.000000</td>\n",
       "      <td>0.000000</td>\n",
       "    </tr>\n",
       "    <tr>\n",
       "      <th>50%</th>\n",
       "      <td>3299.50000</td>\n",
       "      <td>NaN</td>\n",
       "      <td>NaN</td>\n",
       "      <td>44.000000</td>\n",
       "      <td>-149.000000</td>\n",
       "      <td>-99.000000</td>\n",
       "      <td>-25.000000</td>\n",
       "      <td>-117.000000</td>\n",
       "      <td>33.000000</td>\n",
       "      <td>27.000000</td>\n",
       "      <td>...</td>\n",
       "      <td>-234.000000</td>\n",
       "      <td>-131.000000</td>\n",
       "      <td>-21.000000</td>\n",
       "      <td>61.500000</td>\n",
       "      <td>107.000000</td>\n",
       "      <td>191.000000</td>\n",
       "      <td>-60.000000</td>\n",
       "      <td>-150.000000</td>\n",
       "      <td>27.000000</td>\n",
       "      <td>0.000000</td>\n",
       "    </tr>\n",
       "    <tr>\n",
       "      <th>75%</th>\n",
       "      <td>4948.75000</td>\n",
       "      <td>NaN</td>\n",
       "      <td>NaN</td>\n",
       "      <td>53.000000</td>\n",
       "      <td>-95.000000</td>\n",
       "      <td>-19.000000</td>\n",
       "      <td>42.000000</td>\n",
       "      <td>-116.000000</td>\n",
       "      <td>74.000000</td>\n",
       "      <td>57.000000</td>\n",
       "      <td>...</td>\n",
       "      <td>-80.000000</td>\n",
       "      <td>52.000000</td>\n",
       "      <td>9.000000</td>\n",
       "      <td>149.000000</td>\n",
       "      <td>129.000000</td>\n",
       "      <td>215.000000</td>\n",
       "      <td>-45.000000</td>\n",
       "      <td>-120.000000</td>\n",
       "      <td>119.000000</td>\n",
       "      <td>0.000000</td>\n",
       "    </tr>\n",
       "    <tr>\n",
       "      <th>max</th>\n",
       "      <td>6598.00000</td>\n",
       "      <td>NaN</td>\n",
       "      <td>NaN</td>\n",
       "      <td>292.000000</td>\n",
       "      <td>95.000000</td>\n",
       "      <td>81.000000</td>\n",
       "      <td>161.000000</td>\n",
       "      <td>325.000000</td>\n",
       "      <td>200.000000</td>\n",
       "      <td>220.000000</td>\n",
       "      <td>...</td>\n",
       "      <td>94.000000</td>\n",
       "      <td>179.000000</td>\n",
       "      <td>192.000000</td>\n",
       "      <td>411.000000</td>\n",
       "      <td>355.000000</td>\n",
       "      <td>625.000000</td>\n",
       "      <td>295.000000</td>\n",
       "      <td>168.000000</td>\n",
       "      <td>367.000000</td>\n",
       "      <td>1.000000</td>\n",
       "    </tr>\n",
       "  </tbody>\n",
       "</table>\n",
       "<p>11 rows × 170 columns</p>\n",
       "</div>"
      ],
      "text/plain": [
       "                ID  molecule_name conformation_name           f1           f2  \\\n",
       "count   6598.00000           6598              6598  6598.000000  6598.000000   \n",
       "unique         NaN            102              6598          NaN          NaN   \n",
       "top            NaN  NON-MUSK-j146         j147_1+87          NaN          NaN   \n",
       "freq           NaN           1044                 1          NaN          NaN   \n",
       "mean    3299.50000            NaN               NaN    58.945135  -119.128524   \n",
       "std     1904.82287            NaN               NaN    53.249007    90.813375   \n",
       "min        1.00000            NaN               NaN   -31.000000  -199.000000   \n",
       "25%     1650.25000            NaN               NaN    37.000000  -193.000000   \n",
       "50%     3299.50000            NaN               NaN    44.000000  -149.000000   \n",
       "75%     4948.75000            NaN               NaN    53.000000   -95.000000   \n",
       "max     6598.00000            NaN               NaN   292.000000    95.000000   \n",
       "\n",
       "                 f3           f4           f5           f6           f7  ...  \\\n",
       "count   6598.000000  6598.000000  6598.000000  6598.000000  6598.000000  ...   \n",
       "unique          NaN          NaN          NaN          NaN          NaN  ...   \n",
       "top             NaN          NaN          NaN          NaN          NaN  ...   \n",
       "freq            NaN          NaN          NaN          NaN          NaN  ...   \n",
       "mean     -73.146560    -0.628372  -103.533495    18.359806   -14.108821  ...   \n",
       "std       67.956235    80.444617    64.387559    80.593655   115.315673  ...   \n",
       "min     -167.000000  -114.000000  -118.000000  -183.000000  -171.000000  ...   \n",
       "25%     -137.000000   -70.000000  -117.000000   -28.000000  -159.000000  ...   \n",
       "50%      -99.000000   -25.000000  -117.000000    33.000000    27.000000  ...   \n",
       "75%      -19.000000    42.000000  -116.000000    74.000000    57.000000  ...   \n",
       "max       81.000000   161.000000   325.000000   200.000000   220.000000  ...   \n",
       "\n",
       "               f158         f159         f160         f161         f162  \\\n",
       "count   6598.000000  6598.000000  6598.000000  6598.000000  6598.000000   \n",
       "unique          NaN          NaN          NaN          NaN          NaN   \n",
       "top             NaN          NaN          NaN          NaN          NaN   \n",
       "freq            NaN          NaN          NaN          NaN          NaN   \n",
       "mean    -184.798272   -75.795696   -26.073204    64.616702   112.037739   \n",
       "std      107.819514   127.861271    69.727964   100.861935    72.835040   \n",
       "min     -328.000000  -219.000000  -136.000000  -120.000000   -69.000000   \n",
       "25%     -272.000000  -205.000000   -70.000000   -18.000000    71.000000   \n",
       "50%     -234.000000  -131.000000   -21.000000    61.500000   107.000000   \n",
       "75%      -80.000000    52.000000     9.000000   149.000000   129.000000   \n",
       "max       94.000000   179.000000   192.000000   411.000000   355.000000   \n",
       "\n",
       "               f163         f164         f165         f166        class  \n",
       "count   6598.000000  6598.000000  6598.000000  6598.000000  6598.000000  \n",
       "unique          NaN          NaN          NaN          NaN          NaN  \n",
       "top             NaN          NaN          NaN          NaN          NaN  \n",
       "freq            NaN          NaN          NaN          NaN          NaN  \n",
       "mean     201.760230   -47.488330  -150.259927    41.770233     0.154138  \n",
       "std       59.526751    55.069365    76.019023    94.116085     0.361108  \n",
       "min       73.000000  -289.000000  -428.000000  -471.000000     0.000000  \n",
       "25%      166.000000   -68.000000  -179.000000    -9.000000     0.000000  \n",
       "50%      191.000000   -60.000000  -150.000000    27.000000     0.000000  \n",
       "75%      215.000000   -45.000000  -120.000000   119.000000     0.000000  \n",
       "max      625.000000   295.000000   168.000000   367.000000     1.000000  \n",
       "\n",
       "[11 rows x 170 columns]"
      ]
     },
     "execution_count": 6,
     "metadata": {},
     "output_type": "execute_result"
    }
   ],
   "source": [
    "# describe all colmns\n",
    "data.describe(include='all')"
   ]
  },
  {
   "cell_type": "markdown",
   "metadata": {},
   "source": [
    "#### There are 102 types of molecules. NON-MUSK-j146 comes 1044 times"
   ]
  },
  {
   "cell_type": "markdown",
   "metadata": {},
   "source": [
    "### Checking Data Balanced or Imbalanced"
   ]
  },
  {
   "cell_type": "code",
   "execution_count": 9,
   "metadata": {},
   "outputs": [
    {
     "name": "stdout",
     "output_type": "stream",
     "text": [
      "0    5581\n",
      "1    1017\n",
      "Name: class, dtype: int64\n"
     ]
    },
    {
     "data": {
      "text/plain": [
       "<matplotlib.axes._subplots.AxesSubplot at 0x23adc2b7588>"
      ]
     },
     "execution_count": 9,
     "metadata": {},
     "output_type": "execute_result"
    },
    {
     "data": {
      "image/png": "[encoded data removed]",
      "text/plain": [
       "<Figure size 432x288 with 1 Axes>"
      ]
     },
     "metadata": {
      "needs_background": "light"
     },
     "output_type": "display_data"
    }
   ],
   "source": [
    "print(data['class'].value_counts())\n",
    "data['class'].value_counts()[:2].plot(kind='barh')"
   ]
  },
  {
   "cell_type": "markdown",
   "metadata": {},
   "source": [
    " #### The dataset is imbalanced, class 1 is minority."
   ]
  },
  {
   "cell_type": "code",
   "execution_count": 10,
   "metadata": {},
   "outputs": [
    {
     "name": "stdout",
     "output_type": "stream",
     "text": [
      "NON-MUSK-j146    1044\n",
      "NON-MUSK-252     1010\n",
      "NON-MUSK-j147     911\n",
      "NON-MUSK-f146     383\n",
      "NON-MUSK-288      344\n",
      "                 ... \n",
      "NON-MUSK-290        2\n",
      "MUSK-300            2\n",
      "NON-MUSK-j130       2\n",
      "NON-MUSK-j97        1\n",
      "NON-MUSK-j96        1\n",
      "Name: molecule_name, Length: 102, dtype: int64\n"
     ]
    },
    {
     "data": {
      "text/plain": [
       "<matplotlib.axes._subplots.AxesSubplot at 0x23adc764470>"
      ]
     },
     "execution_count": 10,
     "metadata": {},
     "output_type": "execute_result"
    },
    {
     "data": {
      "image/png": "[encoded data removed]",
      "text/plain": [
       "<Figure size 432x288 with 1 Axes>"
      ]
     },
     "metadata": {
      "needs_background": "light"
     },
     "output_type": "display_data"
    }
   ],
   "source": [
    "print(data['molecule_name'].value_counts())\n",
    "data['molecule_name'].value_counts()[:5].plot(kind='barh')"
   ]
  },
  {
   "cell_type": "markdown",
   "metadata": {},
   "source": [
    "### Scatter Plot"
   ]
  },
  {
   "cell_type": "code",
   "execution_count": 50,
   "metadata": {},
   "outputs": [
    {
     "data": {
      "image/png": "[encoded data removed]",
      "text/plain": [
       "<Figure size 329.625x288 with 1 Axes>"
      ]
     },
     "metadata": {},
     "output_type": "display_data"
    }
   ],
   "source": [
    "sns.set_style(\"whitegrid\");\n",
    "sns.FacetGrid(data, hue=\"class\", size=4) \\\n",
    "   .map(plt.scatter, \"f1\", \"f2\") \\\n",
    "   .add_legend();\n",
    "plt.show();"
   ]
  },
  {
   "cell_type": "markdown",
   "metadata": {},
   "source": [
    "#### If f1 is above 200 and less than 0 then records belongs to the class 0"
   ]
  },
  {
   "cell_type": "markdown",
   "metadata": {},
   "source": [
    "### PDF"
   ]
  },
  {
   "cell_type": "code",
   "execution_count": 12,
   "metadata": {},
   "outputs": [
    {
     "data": {
      "image/png": "[encoded data removed]",
      "text/plain": [
       "<Figure size 401.625x360 with 1 Axes>"
      ]
     },
     "metadata": {},
     "output_type": "display_data"
    }
   ],
   "source": [
    "sns.FacetGrid(data, hue=\"class\", size=5) \\\n",
    "   .map(sns.distplot, \"f1\") \\\n",
    "   .add_legend();\n",
    "plt.show();"
   ]
  },
  {
   "cell_type": "markdown",
   "metadata": {},
   "source": [
    "### Box-PLOT"
   ]
  },
  {
   "cell_type": "code",
   "execution_count": 13,
   "metadata": {},
   "outputs": [
    {
     "data": {
      "image/png": "[encoded data removed]",
      "text/plain": [
       "<Figure size 432x288 with 1 Axes>"
      ]
     },
     "metadata": {},
     "output_type": "display_data"
    }
   ],
   "source": [
    "sns.boxplot(x='class',y='f1', data=data)\n",
    "plt.show()"
   ]
  },
  {
   "cell_type": "markdown",
   "metadata": {},
   "source": [
    "## Pre-processing"
   ]
  },
  {
   "cell_type": "markdown",
   "metadata": {},
   "source": [
    "### Check for Null values"
   ]
  },
  {
   "cell_type": "code",
   "execution_count": 14,
   "metadata": {},
   "outputs": [
    {
     "data": {
      "text/plain": [
       "False"
      ]
     },
     "execution_count": 14,
     "metadata": {},
     "output_type": "execute_result"
    }
   ],
   "source": [
    "data.isnull().values.any()"
   ]
  },
  {
   "cell_type": "markdown",
   "metadata": {},
   "source": [
    "There are no Null values"
   ]
  },
  {
   "cell_type": "markdown",
   "metadata": {},
   "source": [
    "### Check for Duplicate records"
   ]
  },
  {
   "cell_type": "code",
   "execution_count": 15,
   "metadata": {},
   "outputs": [
    {
     "name": "stdout",
     "output_type": "stream",
     "text": [
      "(6598, 168)\n"
     ]
    }
   ],
   "source": [
    "df = data.copy()\n",
    "del df['ID']   \n",
    "del df['class']\n",
    "print(df.shape)"
   ]
  },
  {
   "cell_type": "code",
   "execution_count": 16,
   "metadata": {},
   "outputs": [
    {
     "name": "stdout",
     "output_type": "stream",
     "text": [
      "Before check (6598, 168)\n",
      "After Check (6598, 168)\n"
     ]
    }
   ],
   "source": [
    "print('Before check',df.shape)\n",
    "df =df.drop_duplicates()\n",
    "print('After Check',df.shape)"
   ]
  },
  {
   "cell_type": "markdown",
   "metadata": {},
   "source": [
    "There are no duplicate records."
   ]
  },
  {
   "cell_type": "markdown",
   "metadata": {},
   "source": [
    "### Check for duplicate columns"
   ]
  },
  {
   "cell_type": "code",
   "execution_count": 17,
   "metadata": {},
   "outputs": [
    {
     "data": {
      "text/plain": [
       "(6598, 168)"
      ]
     },
     "execution_count": 17,
     "metadata": {},
     "output_type": "execute_result"
    }
   ],
   "source": [
    "df =df.T.drop_duplicates().T\n",
    "df.shape"
   ]
  },
  {
   "cell_type": "markdown",
   "metadata": {},
   "source": [
    "### Check for columns having same value across all rows"
   ]
  },
  {
   "cell_type": "code",
   "execution_count": 18,
   "metadata": {},
   "outputs": [
    {
     "name": "stdout",
     "output_type": "stream",
     "text": [
      "Index([], dtype='object')\n"
     ]
    },
    {
     "data": {
      "text/plain": [
       "(6598, 168)"
      ]
     },
     "execution_count": 18,
     "metadata": {},
     "output_type": "execute_result"
    }
   ],
   "source": [
    "nunique = df.apply(pd.Series.nunique)\n",
    "cols_to_drop = nunique[nunique == 1].index\n",
    "print(cols_to_drop)\n",
    "df = df.drop(cols_to_drop, axis=1)\n",
    "df.shape"
   ]
  },
  {
   "cell_type": "markdown",
   "metadata": {},
   "source": [
    "There are no duplicates columns"
   ]
  },
  {
   "cell_type": "markdown",
   "metadata": {},
   "source": [
    "### Coverting Categorical features into onehotencoding"
   ]
  },
  {
   "cell_type": "code",
   "execution_count": 19,
   "metadata": {},
   "outputs": [
    {
     "data": {
      "text/html": [
       "<div>\n",
       "<style scoped>\n",
       "    .dataframe tbody tr th:only-of-type {\n",
       "        vertical-align: middle;\n",
       "    }\n",
       "\n",
       "    .dataframe tbody tr th {\n",
       "        vertical-align: top;\n",
       "    }\n",
       "\n",
       "    .dataframe thead th {\n",
       "        text-align: right;\n",
       "    }\n",
       "</style>\n",
       "<table border=\"1\" class=\"dataframe\">\n",
       "  <thead>\n",
       "    <tr style=\"text-align: right;\">\n",
       "      <th></th>\n",
       "      <th>molecule_name</th>\n",
       "      <th>conformation_name</th>\n",
       "    </tr>\n",
       "  </thead>\n",
       "  <tbody>\n",
       "    <tr>\n",
       "      <th>0</th>\n",
       "      <td>MUSK-211</td>\n",
       "      <td>211_1+1</td>\n",
       "    </tr>\n",
       "    <tr>\n",
       "      <th>1</th>\n",
       "      <td>MUSK-211</td>\n",
       "      <td>211_1+10</td>\n",
       "    </tr>\n",
       "    <tr>\n",
       "      <th>2</th>\n",
       "      <td>MUSK-211</td>\n",
       "      <td>211_1+11</td>\n",
       "    </tr>\n",
       "    <tr>\n",
       "      <th>3</th>\n",
       "      <td>MUSK-211</td>\n",
       "      <td>211_1+12</td>\n",
       "    </tr>\n",
       "    <tr>\n",
       "      <th>4</th>\n",
       "      <td>MUSK-211</td>\n",
       "      <td>211_1+13</td>\n",
       "    </tr>\n",
       "    <tr>\n",
       "      <th>...</th>\n",
       "      <td>...</td>\n",
       "      <td>...</td>\n",
       "    </tr>\n",
       "    <tr>\n",
       "      <th>6593</th>\n",
       "      <td>NON-MUSK-jp13</td>\n",
       "      <td>jp13_2+5</td>\n",
       "    </tr>\n",
       "    <tr>\n",
       "      <th>6594</th>\n",
       "      <td>NON-MUSK-jp13</td>\n",
       "      <td>jp13_2+6</td>\n",
       "    </tr>\n",
       "    <tr>\n",
       "      <th>6595</th>\n",
       "      <td>NON-MUSK-jp13</td>\n",
       "      <td>jp13_2+7</td>\n",
       "    </tr>\n",
       "    <tr>\n",
       "      <th>6596</th>\n",
       "      <td>NON-MUSK-jp13</td>\n",
       "      <td>jp13_2+8</td>\n",
       "    </tr>\n",
       "    <tr>\n",
       "      <th>6597</th>\n",
       "      <td>NON-MUSK-jp13</td>\n",
       "      <td>jp13_2+9</td>\n",
       "    </tr>\n",
       "  </tbody>\n",
       "</table>\n",
       "<p>6598 rows × 2 columns</p>\n",
       "</div>"
      ],
      "text/plain": [
       "      molecule_name conformation_name\n",
       "0          MUSK-211           211_1+1\n",
       "1          MUSK-211          211_1+10\n",
       "2          MUSK-211          211_1+11\n",
       "3          MUSK-211          211_1+12\n",
       "4          MUSK-211          211_1+13\n",
       "...             ...               ...\n",
       "6593  NON-MUSK-jp13          jp13_2+5\n",
       "6594  NON-MUSK-jp13          jp13_2+6\n",
       "6595  NON-MUSK-jp13          jp13_2+7\n",
       "6596  NON-MUSK-jp13          jp13_2+8\n",
       "6597  NON-MUSK-jp13          jp13_2+9\n",
       "\n",
       "[6598 rows x 2 columns]"
      ]
     },
     "execution_count": 19,
     "metadata": {},
     "output_type": "execute_result"
    }
   ],
   "source": [
    "data.loc[:, data.dtypes == object]"
   ]
  },
  {
   "cell_type": "markdown",
   "metadata": {},
   "source": [
    "#### All values in 'conformation_name' is unique, so model will not learn anything from it. So removed it/"
   ]
  },
  {
   "cell_type": "code",
   "execution_count": 20,
   "metadata": {},
   "outputs": [],
   "source": [
    "del df['conformation_name']"
   ]
  },
  {
   "cell_type": "code",
   "execution_count": 21,
   "metadata": {},
   "outputs": [
    {
     "data": {
      "text/html": [
       "<div>\n",
       "<style scoped>\n",
       "    .dataframe tbody tr th:only-of-type {\n",
       "        vertical-align: middle;\n",
       "    }\n",
       "\n",
       "    .dataframe tbody tr th {\n",
       "        vertical-align: top;\n",
       "    }\n",
       "\n",
       "    .dataframe thead th {\n",
       "        text-align: right;\n",
       "    }\n",
       "</style>\n",
       "<table border=\"1\" class=\"dataframe\">\n",
       "  <thead>\n",
       "    <tr style=\"text-align: right;\">\n",
       "      <th></th>\n",
       "      <th>f1</th>\n",
       "      <th>f2</th>\n",
       "      <th>f3</th>\n",
       "      <th>f4</th>\n",
       "      <th>f5</th>\n",
       "      <th>f6</th>\n",
       "      <th>f7</th>\n",
       "      <th>f8</th>\n",
       "      <th>f9</th>\n",
       "      <th>f10</th>\n",
       "      <th>...</th>\n",
       "      <th>NON-MUSK-j81</th>\n",
       "      <th>NON-MUSK-j83</th>\n",
       "      <th>NON-MUSK-j84</th>\n",
       "      <th>NON-MUSK-j90</th>\n",
       "      <th>NON-MUSK-j96</th>\n",
       "      <th>NON-MUSK-j97</th>\n",
       "      <th>NON-MUSK-jf18</th>\n",
       "      <th>NON-MUSK-jf79</th>\n",
       "      <th>NON-MUSK-jp10</th>\n",
       "      <th>NON-MUSK-jp13</th>\n",
       "    </tr>\n",
       "  </thead>\n",
       "  <tbody>\n",
       "    <tr>\n",
       "      <th>0</th>\n",
       "      <td>46</td>\n",
       "      <td>-108</td>\n",
       "      <td>-60</td>\n",
       "      <td>-69</td>\n",
       "      <td>-117</td>\n",
       "      <td>49</td>\n",
       "      <td>38</td>\n",
       "      <td>-161</td>\n",
       "      <td>-8</td>\n",
       "      <td>5</td>\n",
       "      <td>...</td>\n",
       "      <td>0</td>\n",
       "      <td>0</td>\n",
       "      <td>0</td>\n",
       "      <td>0</td>\n",
       "      <td>0</td>\n",
       "      <td>0</td>\n",
       "      <td>0</td>\n",
       "      <td>0</td>\n",
       "      <td>0</td>\n",
       "      <td>0</td>\n",
       "    </tr>\n",
       "    <tr>\n",
       "      <th>1</th>\n",
       "      <td>41</td>\n",
       "      <td>-188</td>\n",
       "      <td>-145</td>\n",
       "      <td>22</td>\n",
       "      <td>-117</td>\n",
       "      <td>-6</td>\n",
       "      <td>57</td>\n",
       "      <td>-171</td>\n",
       "      <td>-39</td>\n",
       "      <td>-100</td>\n",
       "      <td>...</td>\n",
       "      <td>0</td>\n",
       "      <td>0</td>\n",
       "      <td>0</td>\n",
       "      <td>0</td>\n",
       "      <td>0</td>\n",
       "      <td>0</td>\n",
       "      <td>0</td>\n",
       "      <td>0</td>\n",
       "      <td>0</td>\n",
       "      <td>0</td>\n",
       "    </tr>\n",
       "    <tr>\n",
       "      <th>2</th>\n",
       "      <td>46</td>\n",
       "      <td>-194</td>\n",
       "      <td>-145</td>\n",
       "      <td>28</td>\n",
       "      <td>-117</td>\n",
       "      <td>73</td>\n",
       "      <td>57</td>\n",
       "      <td>-168</td>\n",
       "      <td>-39</td>\n",
       "      <td>-22</td>\n",
       "      <td>...</td>\n",
       "      <td>0</td>\n",
       "      <td>0</td>\n",
       "      <td>0</td>\n",
       "      <td>0</td>\n",
       "      <td>0</td>\n",
       "      <td>0</td>\n",
       "      <td>0</td>\n",
       "      <td>0</td>\n",
       "      <td>0</td>\n",
       "      <td>0</td>\n",
       "    </tr>\n",
       "    <tr>\n",
       "      <th>3</th>\n",
       "      <td>41</td>\n",
       "      <td>-188</td>\n",
       "      <td>-145</td>\n",
       "      <td>22</td>\n",
       "      <td>-117</td>\n",
       "      <td>-7</td>\n",
       "      <td>57</td>\n",
       "      <td>-170</td>\n",
       "      <td>-39</td>\n",
       "      <td>-99</td>\n",
       "      <td>...</td>\n",
       "      <td>0</td>\n",
       "      <td>0</td>\n",
       "      <td>0</td>\n",
       "      <td>0</td>\n",
       "      <td>0</td>\n",
       "      <td>0</td>\n",
       "      <td>0</td>\n",
       "      <td>0</td>\n",
       "      <td>0</td>\n",
       "      <td>0</td>\n",
       "    </tr>\n",
       "    <tr>\n",
       "      <th>4</th>\n",
       "      <td>41</td>\n",
       "      <td>-188</td>\n",
       "      <td>-145</td>\n",
       "      <td>22</td>\n",
       "      <td>-117</td>\n",
       "      <td>-7</td>\n",
       "      <td>57</td>\n",
       "      <td>-170</td>\n",
       "      <td>-39</td>\n",
       "      <td>-99</td>\n",
       "      <td>...</td>\n",
       "      <td>0</td>\n",
       "      <td>0</td>\n",
       "      <td>0</td>\n",
       "      <td>0</td>\n",
       "      <td>0</td>\n",
       "      <td>0</td>\n",
       "      <td>0</td>\n",
       "      <td>0</td>\n",
       "      <td>0</td>\n",
       "      <td>0</td>\n",
       "    </tr>\n",
       "  </tbody>\n",
       "</table>\n",
       "<p>5 rows × 268 columns</p>\n",
       "</div>"
      ],
      "text/plain": [
       "   f1    f2    f3   f4    f5  f6  f7    f8   f9   f10  ... NON-MUSK-j81  \\\n",
       "0  46  -108   -60  -69  -117  49  38  -161   -8     5  ...            0   \n",
       "1  41  -188  -145   22  -117  -6  57  -171  -39  -100  ...            0   \n",
       "2  46  -194  -145   28  -117  73  57  -168  -39   -22  ...            0   \n",
       "3  41  -188  -145   22  -117  -7  57  -170  -39   -99  ...            0   \n",
       "4  41  -188  -145   22  -117  -7  57  -170  -39   -99  ...            0   \n",
       "\n",
       "  NON-MUSK-j83 NON-MUSK-j84 NON-MUSK-j90 NON-MUSK-j96 NON-MUSK-j97  \\\n",
       "0            0            0            0            0            0   \n",
       "1            0            0            0            0            0   \n",
       "2            0            0            0            0            0   \n",
       "3            0            0            0            0            0   \n",
       "4            0            0            0            0            0   \n",
       "\n",
       "  NON-MUSK-jf18 NON-MUSK-jf79 NON-MUSK-jp10 NON-MUSK-jp13  \n",
       "0             0             0             0             0  \n",
       "1             0             0             0             0  \n",
       "2             0             0             0             0  \n",
       "3             0             0             0             0  \n",
       "4             0             0             0             0  \n",
       "\n",
       "[5 rows x 268 columns]"
      ]
     },
     "execution_count": 21,
     "metadata": {},
     "output_type": "execute_result"
    }
   ],
   "source": [
    "molecule_name_dummies = pd.get_dummies(df.molecule_name)\n",
    "del df['molecule_name']\n",
    "new_df = pd.concat([df, molecule_name_dummies], axis=1)\n",
    "new_df.head()"
   ]
  },
  {
   "cell_type": "markdown",
   "metadata": {},
   "source": [
    "### Converting all features into same scale"
   ]
  },
  {
   "cell_type": "code",
   "execution_count": 22,
   "metadata": {},
   "outputs": [],
   "source": [
    "from sklearn.preprocessing import StandardScaler\n",
    "sc_X = StandardScaler()\n",
    "df_train = sc_X.fit_transform(new_df)"
   ]
  },
  {
   "cell_type": "markdown",
   "metadata": {},
   "source": [
    "### Train-Test-Split(80:20)"
   ]
  },
  {
   "cell_type": "code",
   "execution_count": 23,
   "metadata": {},
   "outputs": [
    {
     "name": "stdout",
     "output_type": "stream",
     "text": [
      "Number of training examples : 5278 and each row is of shape (268)\n",
      "Number of testing examples : 1320 and each row is of shape (268)\n"
     ]
    }
   ],
   "source": [
    "from sklearn.model_selection import train_test_split,StratifiedKFold\n",
    "X_train, X_test, y_train, y_test = train_test_split(df_train, data['class'], test_size = 0.20, random_state = 123) # create four variable\n",
    "\n",
    "print(\"Number of training examples :\", X_train.shape[0], \"and each row is of shape (%d)\"%(X_train.shape[1]))\n",
    "print(\"Number of testing examples :\", X_test.shape[0], \"and each row is of shape (%d)\"%(X_test.shape[1]))"
   ]
  },
  {
   "cell_type": "code",
   "execution_count": 24,
   "metadata": {},
   "outputs": [],
   "source": [
    "# This function plots the confusion matrices\n",
    "def plot_confusion_matrix(y_test, y_predict):\n",
    "    C = confusion_matrix(y_test, y_predict)\n",
    "    # C = 2,2 matrix, each cell (i,j) represents number of points of class i are predicted class j\n",
    "    A =(((C.T)/(C.sum(axis=1))).T)\n",
    "    #divid each element of the confusion matrix with the sum of elements in that column\n",
    "    B =(C/C.sum(axis=0))\n",
    "    plt.figure(figsize=(20,4))\n",
    "    \n",
    "    labels = [0,1]         \n",
    "    # representing A in heatmap format\n",
    "    \n",
    "    cmap=sns.light_palette(\"green\")\n",
    "    plt.subplot(1, 3, 1)\n",
    "    sns.heatmap(C, annot=True,cmap=cmap,fmt=\".2g\",annot_kws={\"ha\": 'left',\"va\": 'top',\"fontsize\":12})\n",
    "    plt.xlabel('Predicted Class',fontsize=12)\n",
    "    plt.ylabel('Original Class',fontsize=12)\n",
    "    plt.title(\"Confusion matrix\",fontsize=12)\n",
    "    \n",
    "    plt.subplot(1, 3, 2)\n",
    "    sns.heatmap(B, annot=True,cmap=cmap,fmt=\".2g\",annot_kws={\"ha\": 'left',\"va\": 'top',\"fontsize\":12})\n",
    "    plt.xlabel('Predicted Class',fontsize=12)\n",
    "    plt.ylabel('Original Class',fontsize=12)\n",
    "    plt.title(\"Precision matrix\",fontsize=12)\n",
    "    \n",
    "    plt.subplot(1, 3, 3)\n",
    "    # representing B in heatmap format\n",
    "    sns.heatmap(A, annot=True,cmap=cmap,fmt=\".2g\",annot_kws={\"ha\": 'left',\"va\": 'top',\"fontsize\":12})\n",
    "    plt.xlabel('Predicted Class',fontsize=12)\n",
    "    plt.ylabel('Original Class',fontsize=12)\n",
    "    plt.title(\"Recall matrix\",fontsize=12)\n",
    "    \n",
    "    plt.show()"
   ]
  },
  {
   "cell_type": "markdown",
   "metadata": {},
   "source": [
    "## Training Model"
   ]
  },
  {
   "cell_type": "markdown",
   "metadata": {},
   "source": [
    "### XGBoost Classifier"
   ]
  },
  {
   "cell_type": "code",
   "execution_count": 25,
   "metadata": {},
   "outputs": [],
   "source": [
    "def tune_xgboost(x_train,y_train):\n",
    "    start = time.time()\n",
    "    xgb_clf = xgb.XGBClassifier(n_jobs = -1)\n",
    "    random_parameters = {\"n_estimators\":[50,55,60,65,70,75,80],'learning_rate':[0.01,0.1,0.001],'reg_alpha':[1,0.1,0.01,0.001,0.05,0.005],\n",
    "        'min_child_weight': [1, 3,5,7, 10,15],\n",
    "        'gamma': [0.5, 1, 0,0.7],\n",
    "        'subsample': [0.6,0.8, 1.0],\n",
    "        'colsample_bytree': [0.6,0.8, 1.0],\n",
    "        'max_depth': [3, 4, 5,7],\n",
    "        'reg_lambda':[1,0.1,0.01,0.001,0.05,0.005]                 \n",
    "        }\n",
    "    randomSearchModel = RandomizedSearchCV(xgb_clf, random_parameters, cv=7,scoring='neg_log_loss')\n",
    "    randomSearchModel.fit(x_train, y_train)\n",
    "    print('Time taken in finding Parameter: ',(time.time() - start))\n",
    "    return randomSearchModel.best_params_    "
   ]
  },
  {
   "cell_type": "code",
   "execution_count": 26,
   "metadata": {},
   "outputs": [
    {
     "name": "stdout",
     "output_type": "stream",
     "text": [
      "Time taken in finding Parameter:  94.90979814529419\n"
     ]
    },
    {
     "data": {
      "text/plain": [
       "{'subsample': 0.6,\n",
       " 'reg_lambda': 1,\n",
       " 'reg_alpha': 0.1,\n",
       " 'n_estimators': 65,\n",
       " 'min_child_weight': 1,\n",
       " 'max_depth': 4,\n",
       " 'learning_rate': 0.1,\n",
       " 'gamma': 0.7,\n",
       " 'colsample_bytree': 0.6}"
      ]
     },
     "execution_count": 26,
     "metadata": {},
     "output_type": "execute_result"
    }
   ],
   "source": [
    "tune_xgboost(X_train,y_train)"
   ]
  },
  {
   "cell_type": "markdown",
   "metadata": {},
   "source": [
    "## Training model\n",
    "\n",
    "### Accuracy and Loss"
   ]
  },
  {
   "cell_type": "code",
   "execution_count": 44,
   "metadata": {},
   "outputs": [
    {
     "name": "stdout",
     "output_type": "stream",
     "text": [
      "\n",
      "The Train accuracy of the xgbdt classifier is 99.374763%\n",
      "\n",
      "The Test accuracy of the xgbdt classifier is 98.333333%\n",
      "The train log loss is: 0.039798361486024794\n",
      "The test log loss is: 0.05970993431330884\n"
     ]
    }
   ],
   "source": [
    "xgb_clf = xgb.XGBClassifier(n_estimators=60,subsample=0.6,min_child_weight=5,max_depth=7,learning_rate=0.1,gamma=0.5,colsample_bytree=1.0,reg_alpha=0.05,reg_lambda=1).fit(X_train,y_train)\n",
    "pred = xgb_clf.predict(X_train)\n",
    "# evaluate accuracy\n",
    "acc = accuracy_score(y_train, pred) * 100\n",
    "print('\\nThe Train accuracy of the xgbdt classifier is %f%%' % (acc))\n",
    "# predict the response\n",
    "pred = xgb_clf.predict(X_test)\n",
    "# evaluate accuracy\n",
    "acc = accuracy_score(y_test, pred) * 100\n",
    "print('\\nThe Test accuracy of the xgbdt classifier is %f%%' % (acc))\n",
    "\n",
    "predict_y = xgb_clf.predict_proba(X_train)\n",
    "print(\"The train log loss is:\",log_loss(y_train, predict_y, labels=xgb_clf.classes_, eps=1e-15))\n",
    "predict_y = xgb_clf.predict_proba(X_test)\n",
    "print(\"The test log loss is:\",log_loss(y_test, predict_y, labels=xgb_clf.classes_, eps=1e-15))"
   ]
  },
  {
   "cell_type": "markdown",
   "metadata": {},
   "source": [
    "### F1 Score"
   ]
  },
  {
   "cell_type": "code",
   "execution_count": 45,
   "metadata": {},
   "outputs": [
    {
     "name": "stdout",
     "output_type": "stream",
     "text": [
      "F1 Score:  0.9458128078817735\n"
     ]
    }
   ],
   "source": [
    "print(\"F1 Score: \",f1_score(y_test,pred))"
   ]
  },
  {
   "cell_type": "markdown",
   "metadata": {},
   "source": [
    "### Confusion Matrix "
   ]
  },
  {
   "cell_type": "code",
   "execution_count": 46,
   "metadata": {},
   "outputs": [
    {
     "data": {
      "image/png": "[encoded data removed]",
      "text/plain": [
       "<Figure size 1440x288 with 6 Axes>"
      ]
     },
     "metadata": {},
     "output_type": "display_data"
    }
   ],
   "source": [
    "plot_confusion_matrix(y_test, pred)"
   ]
  },
  {
   "cell_type": "markdown",
   "metadata": {},
   "source": [
    "### Classification Report"
   ]
  },
  {
   "cell_type": "code",
   "execution_count": 47,
   "metadata": {},
   "outputs": [
    {
     "name": "stdout",
     "output_type": "stream",
     "text": [
      "              precision    recall  f1-score   support\n",
      "\n",
      "           0       0.99      0.99      0.99      1115\n",
      "           1       0.96      0.94      0.95       205\n",
      "\n",
      "    accuracy                           0.98      1320\n",
      "   macro avg       0.97      0.96      0.97      1320\n",
      "weighted avg       0.98      0.98      0.98      1320\n",
      "\n"
     ]
    }
   ],
   "source": [
    "from sklearn.metrics import classification_report\n",
    "print(classification_report(y_test, pred))"
   ]
  },
  {
   "cell_type": "markdown",
   "metadata": {},
   "source": [
    "### Saving Model using pickle"
   ]
  },
  {
   "cell_type": "code",
   "execution_count": 31,
   "metadata": {},
   "outputs": [],
   "source": [
    "import pickle\n",
    "file_name = \"tuned_xgb.pkl\"\n",
    "# save\n",
    "pickle.dump(xgb_clf, open(file_name, \"wb\"))"
   ]
  },
  {
   "cell_type": "markdown",
   "metadata": {},
   "source": [
    "# -----------------------------------------------------------------------------------------------------"
   ]
  },
  {
   "cell_type": "markdown",
   "metadata": {},
   "source": [
    "#  Neural Network"
   ]
  },
  {
   "cell_type": "markdown",
   "metadata": {},
   "source": [
    "### Importing Libraries"
   ]
  },
  {
   "cell_type": "code",
   "execution_count": 48,
   "metadata": {},
   "outputs": [],
   "source": [
    "from keras.utils import np_utils \n",
    "import tensorflow as tf\n",
    "from tensorflow.keras.initializers import RandomNormal\n",
    "from tensorflow.keras import backend\n",
    "from tensorflow.keras.models import Sequential\n",
    "from tensorflow.keras.layers import Dense, Activation,BatchNormalization,Dropout"
   ]
  },
  {
   "cell_type": "code",
   "execution_count": 33,
   "metadata": {},
   "outputs": [
    {
     "name": "stdout",
     "output_type": "stream",
     "text": [
      "After converting the output into a vector :  1\n"
     ]
    }
   ],
   "source": [
    "Y_train = np_utils.to_categorical(y_train, 2)    #one hot encoding\n",
    "Y_test = np_utils.to_categorical(y_test, 2)\n",
    "\n",
    "print(\"After converting the output into a vector : \",y_train[0])"
   ]
  },
  {
   "cell_type": "code",
   "execution_count": 34,
   "metadata": {},
   "outputs": [],
   "source": [
    "# some model parameters\n",
    "output_dim = 2\n",
    "input_dim = X_train.shape[1]\n",
    "batch_size = 16\n",
    "epochs = 100"
   ]
  },
  {
   "cell_type": "markdown",
   "metadata": {},
   "source": [
    "## Model Architecture"
   ]
  },
  {
   "cell_type": "markdown",
   "metadata": {},
   "source": [
    "## 2 Hidden layer  + BatchNormalization + Dropout"
   ]
  },
  {
   "cell_type": "code",
   "execution_count": 35,
   "metadata": {},
   "outputs": [
    {
     "name": "stdout",
     "output_type": "stream",
     "text": [
      "Model: \"sequential\"\n",
      "_________________________________________________________________\n",
      "Layer (type)                 Output Shape              Param #   \n",
      "=================================================================\n",
      "dense (Dense)                (None, 32)                8608      \n",
      "_________________________________________________________________\n",
      "batch_normalization (BatchNo (None, 32)                128       \n",
      "_________________________________________________________________\n",
      "dropout (Dropout)            (None, 32)                0         \n",
      "_________________________________________________________________\n",
      "dense_1 (Dense)              (None, 32)                1056      \n",
      "_________________________________________________________________\n",
      "batch_normalization_1 (Batch (None, 32)                128       \n",
      "_________________________________________________________________\n",
      "dropout_1 (Dropout)          (None, 32)                0         \n",
      "_________________________________________________________________\n",
      "dense_2 (Dense)              (None, 2)                 66        \n",
      "=================================================================\n",
      "Total params: 9,986\n",
      "Trainable params: 9,858\n",
      "Non-trainable params: 128\n",
      "_________________________________________________________________\n"
     ]
    }
   ],
   "source": [
    "model = Sequential()\n",
    "# Layer 1   \n",
    "model.add(Dense(32, activation='relu', input_shape=(input_dim,)))\n",
    "model.add(BatchNormalization())\n",
    "model.add(Dropout(0.5))\n",
    "# layer 2\n",
    "model.add(Dense(32, activation='relu', ))\n",
    "model.add(BatchNormalization())\n",
    "model.add(Dropout(0.5))\n",
    "# relu classifier\n",
    "model.add(Dense(output_dim, activation='relu'))\n",
    "model.summary()"
   ]
  },
  {
   "cell_type": "markdown",
   "metadata": {},
   "source": [
    "### Compile and fit model"
   ]
  },
  {
   "cell_type": "code",
   "execution_count": 36,
   "metadata": {
    "scrolled": true
   },
   "outputs": [
    {
     "name": "stdout",
     "output_type": "stream",
     "text": [
      "Train on 4750 samples, validate on 528 samples\n",
      "Epoch 1/100\n",
      "4750/4750 [==============================] - 4s 782us/sample - loss: 5.0879 - accuracy: 0.5606 - val_loss: 2.0687 - val_accuracy: 0.7869\n",
      "Epoch 2/100\n",
      "4750/4750 [==============================] - 2s 359us/sample - loss: 4.0519 - accuracy: 0.6518 - val_loss: 1.5025 - val_accuracy: 0.8570\n",
      "Epoch 3/100\n",
      "4750/4750 [==============================] - 2s 409us/sample - loss: 3.3970 - accuracy: 0.7034 - val_loss: 1.4168 - val_accuracy: 0.8797\n",
      "Epoch 4/100\n",
      "4750/4750 [==============================] - 2s 435us/sample - loss: 2.9490 - accuracy: 0.7395 - val_loss: 1.3544 - val_accuracy: 0.8854\n",
      "Epoch 5/100\n",
      "4750/4750 [==============================] - 2s 465us/sample - loss: 2.6115 - accuracy: 0.7688 - val_loss: 1.1512 - val_accuracy: 0.9015\n",
      "Epoch 6/100\n",
      "4750/4750 [==============================] - 2s 501us/sample - loss: 2.3747 - accuracy: 0.7909 - val_loss: 0.9461 - val_accuracy: 0.9138\n",
      "Epoch 7/100\n",
      "4750/4750 [==============================] - 3s 582us/sample - loss: 2.1647 - accuracy: 0.8134 - val_loss: 0.9540 - val_accuracy: 0.9186\n",
      "Epoch 8/100\n",
      "4750/4750 [==============================] - 3s 617us/sample - loss: 2.1537 - accuracy: 0.8124 - val_loss: 0.9024 - val_accuracy: 0.9223\n",
      "Epoch 9/100\n",
      "4750/4750 [==============================] - 3s 608us/sample - loss: 1.9535 - accuracy: 0.8319 - val_loss: 0.7982 - val_accuracy: 0.9366\n",
      "Epoch 10/100\n",
      "4750/4750 [==============================] - 4s 942us/sample - loss: 1.6395 - accuracy: 0.8542 - val_loss: 0.4756 - val_accuracy: 0.9508\n",
      "Epoch 11/100\n",
      "4750/4750 [==============================] - 4s 915us/sample - loss: 1.3912 - accuracy: 0.8755 - val_loss: 0.3036 - val_accuracy: 0.9697\n",
      "Epoch 12/100\n",
      "4750/4750 [==============================] - 4s 757us/sample - loss: 1.3926 - accuracy: 0.8792 - val_loss: 0.3104 - val_accuracy: 0.9678\n",
      "Epoch 13/100\n",
      "4750/4750 [==============================] - 4s 778us/sample - loss: 1.4826 - accuracy: 0.8720 - val_loss: 0.3514 - val_accuracy: 0.9678\n",
      "Epoch 14/100\n",
      "4750/4750 [==============================] - 4s 863us/sample - loss: 1.4613 - accuracy: 0.8752 - val_loss: 0.2634 - val_accuracy: 0.9688\n",
      "Epoch 15/100\n",
      "4750/4750 [==============================] - 3s 615us/sample - loss: 1.3143 - accuracy: 0.8827 - val_loss: 0.1831 - val_accuracy: 0.9782\n",
      "Epoch 16/100\n",
      "4750/4750 [==============================] - 2s 451us/sample - loss: 1.1888 - accuracy: 0.8941 - val_loss: 0.1610 - val_accuracy: 0.9820\n",
      "Epoch 17/100\n",
      "4750/4750 [==============================] - 2s 392us/sample - loss: 1.1080 - accuracy: 0.8984 - val_loss: 0.1696 - val_accuracy: 0.9792\n",
      "Epoch 18/100\n",
      "4750/4750 [==============================] - 2s 524us/sample - loss: 0.9810 - accuracy: 0.9112 - val_loss: 0.0820 - val_accuracy: 0.9867\n",
      "Epoch 19/100\n",
      "4750/4750 [==============================] - 3s 617us/sample - loss: 0.9794 - accuracy: 0.9138 - val_loss: 0.1569 - val_accuracy: 0.9848\n",
      "Epoch 20/100\n",
      "4750/4750 [==============================] - 3s 642us/sample - loss: 1.0398 - accuracy: 0.9086 - val_loss: 0.0956 - val_accuracy: 0.9839\n",
      "Epoch 21/100\n",
      "4750/4750 [==============================] - 3s 550us/sample - loss: 0.9831 - accuracy: 0.9140 - val_loss: 0.0575 - val_accuracy: 0.9905\n",
      "Epoch 22/100\n",
      "4750/4750 [==============================] - 3s 621us/sample - loss: 0.8675 - accuracy: 0.9225 - val_loss: 0.0498 - val_accuracy: 0.9934\n",
      "Epoch 23/100\n",
      "4750/4750 [==============================] - 2s 515us/sample - loss: 1.0299 - accuracy: 0.9087 - val_loss: 0.1573 - val_accuracy: 0.9839\n",
      "Epoch 24/100\n",
      "4750/4750 [==============================] - 2s 516us/sample - loss: 1.0246 - accuracy: 0.9066 - val_loss: 0.0974 - val_accuracy: 0.9877\n",
      "Epoch 25/100\n",
      "4750/4750 [==============================] - 3s 535us/sample - loss: 0.9198 - accuracy: 0.9163 - val_loss: 0.1978 - val_accuracy: 0.9811\n",
      "Epoch 26/100\n",
      "4750/4750 [==============================] - 3s 535us/sample - loss: 0.9254 - accuracy: 0.9159 - val_loss: 0.0856 - val_accuracy: 0.9858\n",
      "Epoch 27/100\n",
      "4750/4750 [==============================] - 2s 521us/sample - loss: 0.7745 - accuracy: 0.9295 - val_loss: 0.1000 - val_accuracy: 0.9896\n",
      "Epoch 28/100\n",
      "4750/4750 [==============================] - 2s 513us/sample - loss: 0.8069 - accuracy: 0.9295 - val_loss: 0.0705 - val_accuracy: 0.9896\n",
      "Epoch 29/100\n",
      "4750/4750 [==============================] - 3s 546us/sample - loss: 0.6862 - accuracy: 0.9373 - val_loss: 0.0389 - val_accuracy: 0.9924\n",
      "Epoch 30/100\n",
      "4750/4750 [==============================] - 2s 523us/sample - loss: 0.6167 - accuracy: 0.9420 - val_loss: 0.1483 - val_accuracy: 0.9886\n",
      "Epoch 31/100\n",
      "4750/4750 [==============================] - 2s 489us/sample - loss: 0.7504 - accuracy: 0.9324 - val_loss: 0.0655 - val_accuracy: 0.9934\n",
      "Epoch 32/100\n",
      "4750/4750 [==============================] - 2s 465us/sample - loss: 0.6131 - accuracy: 0.9424 - val_loss: 0.0466 - val_accuracy: 0.9953\n",
      "Epoch 33/100\n",
      "4750/4750 [==============================] - 2s 469us/sample - loss: 0.5504 - accuracy: 0.9466 - val_loss: 0.0473 - val_accuracy: 0.9943\n",
      "Epoch 34/100\n",
      "4750/4750 [==============================] - 3s 533us/sample - loss: 0.5104 - accuracy: 0.9507 - val_loss: 0.0621 - val_accuracy: 0.9943\n",
      "Epoch 35/100\n",
      "4750/4750 [==============================] - 2s 519us/sample - loss: 0.5415 - accuracy: 0.9477 - val_loss: 0.0486 - val_accuracy: 0.9953\n",
      "Epoch 36/100\n",
      "4750/4750 [==============================] - 3s 556us/sample - loss: 0.4779 - accuracy: 0.9531 - val_loss: 0.0350 - val_accuracy: 0.9953\n",
      "Epoch 37/100\n",
      "4750/4750 [==============================] - 3s 554us/sample - loss: 0.4130 - accuracy: 0.9563 - val_loss: 0.0190 - val_accuracy: 0.9953\n",
      "Epoch 38/100\n",
      "4750/4750 [==============================] - 3s 567us/sample - loss: 0.4664 - accuracy: 0.9556 - val_loss: 0.0040 - val_accuracy: 0.9981\n",
      "Epoch 39/100\n",
      "4750/4750 [==============================] - 3s 608us/sample - loss: 0.4308 - accuracy: 0.9572 - val_loss: 0.0036 - val_accuracy: 0.9981\n",
      "Epoch 40/100\n",
      "4750/4750 [==============================] - 3s 689us/sample - loss: 0.3948 - accuracy: 0.9611 - val_loss: 0.0357 - val_accuracy: 0.9943\n",
      "Epoch 41/100\n",
      "4750/4750 [==============================] - 2s 513us/sample - loss: 0.4613 - accuracy: 0.9539 - val_loss: 0.0292 - val_accuracy: 0.9981\n",
      "Epoch 42/100\n",
      "4750/4750 [==============================] - 2s 502us/sample - loss: 0.3985 - accuracy: 0.9593 - val_loss: 0.0293 - val_accuracy: 0.9981\n",
      "Epoch 43/100\n",
      "4750/4750 [==============================] - 2s 509us/sample - loss: 0.3833 - accuracy: 0.9605 - val_loss: 0.0292 - val_accuracy: 0.9981\n",
      "Epoch 44/100\n",
      "4750/4750 [==============================] - 2s 443us/sample - loss: 0.4389 - accuracy: 0.9527 - val_loss: 0.0054 - val_accuracy: 0.9972\n",
      "Epoch 45/100\n",
      "4750/4750 [==============================] - 2s 503us/sample - loss: 0.3933 - accuracy: 0.9573 - val_loss: 0.0023 - val_accuracy: 0.9991\n",
      "Epoch 46/100\n",
      "4750/4750 [==============================] - 3s 561us/sample - loss: 0.3933 - accuracy: 0.9582 - val_loss: 0.0000e+00 - val_accuracy: 1.0000\n",
      "Epoch 47/100\n",
      "4750/4750 [==============================] - 2s 492us/sample - loss: 0.3930 - accuracy: 0.9561 - val_loss: 0.0000e+00 - val_accuracy: 1.0000\n",
      "Epoch 48/100\n",
      "4750/4750 [==============================] - 2s 461us/sample - loss: 0.4249 - accuracy: 0.9532 - val_loss: 0.0000e+00 - val_accuracy: 1.0000\n",
      "Epoch 49/100\n",
      "4750/4750 [==============================] - 2s 466us/sample - loss: 0.3445 - accuracy: 0.9631 - val_loss: 0.0000e+00 - val_accuracy: 1.0000\n",
      "Epoch 50/100\n",
      "4750/4750 [==============================] - 2s 519us/sample - loss: 0.4175 - accuracy: 0.9535 - val_loss: 1.2003e-04 - val_accuracy: 1.0000\n",
      "Epoch 51/100\n",
      "4750/4750 [==============================] - 3s 529us/sample - loss: 0.3590 - accuracy: 0.9632 - val_loss: 0.0000e+00 - val_accuracy: 1.0000\n",
      "Epoch 52/100\n",
      "4750/4750 [==============================] - 2s 413us/sample - loss: 0.3131 - accuracy: 0.9664 - val_loss: 0.0000e+00 - val_accuracy: 1.0000\n",
      "Epoch 53/100\n",
      "4750/4750 [==============================] - 1s 238us/sample - loss: 0.2970 - accuracy: 0.9659 - val_loss: 0.0000e+00 - val_accuracy: 1.0000\n",
      "Epoch 54/100\n",
      "4750/4750 [==============================] - 1s 235us/sample - loss: 0.2897 - accuracy: 0.9686 - val_loss: 0.0000e+00 - val_accuracy: 1.0000\n",
      "Epoch 55/100\n",
      "4750/4750 [==============================] - 1s 269us/sample - loss: 0.3471 - accuracy: 0.9607 - val_loss: 0.0000e+00 - val_accuracy: 1.0000\n",
      "Epoch 56/100\n",
      "4750/4750 [==============================] - 2s 348us/sample - loss: 0.3229 - accuracy: 0.9662 - val_loss: 0.0000e+00 - val_accuracy: 1.0000\n"
     ]
    }
   ],
   "source": [
    "earlyStopping = tf.keras.callbacks.EarlyStopping(monitor='val_loss', patience=10, verbose=0, mode='min')\n",
    "mcp_save = tf.keras.callbacks.ModelCheckpoint('.mdl_wts.hdf5', save_best_only=True, monitor='val_loss', mode='min')\n",
    "#reduce_lr_loss = ReduceLROnPlateau(monitor='val_loss', factor=0.1, patience=7, verbose=1, epsilon=1e-4, mode='min')\n",
    "\n",
    "model.compile(optimizer='adam', loss='binary_crossentropy', metrics=['accuracy'])\n",
    "\n",
    "history = model.fit(X_train, Y_train, batch_size=batch_size, epochs=100, verbose=1,callbacks=[earlyStopping, mcp_save], validation_split=0.1)"
   ]
  },
  {
   "cell_type": "markdown",
   "metadata": {},
   "source": [
    "### Training and Validation's Accuracy and Loss Graph"
   ]
  },
  {
   "cell_type": "code",
   "execution_count": 62,
   "metadata": {
    "scrolled": true
   },
   "outputs": [
    {
     "data": {
      "image/png": "[encoded data removed]",
      "text/plain": [
       "<Figure size 1440x288 with 2 Axes>"
      ]
     },
     "metadata": {},
     "output_type": "display_data"
    }
   ],
   "source": [
    "f = plt.figure(figsize=(20,4))\n",
    "ax = f.add_subplot(121)\n",
    "ax2 = f.add_subplot(122)\n",
    "\n",
    "plt.subplot(1, 2, 1)\n",
    "ax.plot(history.history['accuracy'])\n",
    "ax.plot(history.history['val_accuracy'])\n",
    "plt.xlabel('epochs')\n",
    "plt.ylabel('accuracy')\n",
    "plt.legend(['train', 'val'], loc='lower right')\n",
    "\n",
    "\n",
    "plt.subplot(1, 2, 2)\n",
    "ax2.plot(history.history['loss'])\n",
    "ax2.plot(history.history['val_loss'])\n",
    "\n",
    "plt.ylabel('loss')\n",
    "plt.xlabel('epochs')\n",
    "plt.legend(['train', 'val'], loc='upper right')\n",
    "plt.show()"
   ]
  },
  {
   "cell_type": "markdown",
   "metadata": {},
   "source": [
    "### Train-Test Loss and Accuracy"
   ]
  },
  {
   "cell_type": "code",
   "execution_count": 63,
   "metadata": {},
   "outputs": [
    {
     "name": "stdout",
     "output_type": "stream",
     "text": [
      "Train Loss: 0.0002123081429172258\n",
      "Train accuracy: 0.9999053\n",
      "-------------------------------------------------------------------\n",
      "Test Loss: 1.7620610411871562e-05\n",
      "Test Accuracy: 1.0\n"
     ]
    }
   ],
   "source": [
    "score = model.evaluate(X_train, Y_train, verbose=0) \n",
    "print('Train Loss:', score[0]) \n",
    "print('Train accuracy:', score[1])\n",
    "print(\"-------------------------------------------------------------------\")\n",
    "score = model.evaluate(X_test, Y_test, verbose=0) \n",
    "print('Test Loss:', score[0]) \n",
    "print('Test Accuracy:', score[1])"
   ]
  },
  {
   "cell_type": "code",
   "execution_count": 64,
   "metadata": {},
   "outputs": [],
   "source": [
    "pred = model.predict_classes(X_test)"
   ]
  },
  {
   "cell_type": "markdown",
   "metadata": {},
   "source": [
    "### F1 Score"
   ]
  },
  {
   "cell_type": "code",
   "execution_count": 70,
   "metadata": {},
   "outputs": [
    {
     "name": "stdout",
     "output_type": "stream",
     "text": [
      "F1 Score:  1.0\n"
     ]
    }
   ],
   "source": [
    "print(\"F1 Score: \",f1_score(y_test,pred))"
   ]
  },
  {
   "cell_type": "markdown",
   "metadata": {},
   "source": [
    "### Confusion Matrix"
   ]
  },
  {
   "cell_type": "code",
   "execution_count": 66,
   "metadata": {
    "scrolled": true
   },
   "outputs": [
    {
     "data": {
      "image/png": "[encoded data removed]",
      "text/plain": [
       "<Figure size 1440x288 with 6 Axes>"
      ]
     },
     "metadata": {},
     "output_type": "display_data"
    }
   ],
   "source": [
    "plot_confusion_matrix(y_test, pred)"
   ]
  },
  {
   "cell_type": "markdown",
   "metadata": {},
   "source": [
    "### Classification report"
   ]
  },
  {
   "cell_type": "code",
   "execution_count": 67,
   "metadata": {},
   "outputs": [
    {
     "name": "stdout",
     "output_type": "stream",
     "text": [
      "              precision    recall  f1-score   support\n",
      "\n",
      "           0       1.00      1.00      1.00      1115\n",
      "           1       1.00      1.00      1.00       205\n",
      "\n",
      "    accuracy                           1.00      1320\n",
      "   macro avg       1.00      1.00      1.00      1320\n",
      "weighted avg       1.00      1.00      1.00      1320\n",
      "\n"
     ]
    }
   ],
   "source": [
    "print(classification_report(y_test, pred))"
   ]
  },
  {
   "cell_type": "markdown",
   "metadata": {},
   "source": [
    "### Saving Model"
   ]
  },
  {
   "cell_type": "code",
   "execution_count": 68,
   "metadata": {},
   "outputs": [],
   "source": [
    "model.save('NN_model.hdf5')"
   ]
  },
  {
   "cell_type": "markdown",
   "metadata": {},
   "source": [
    "## Free Memory"
   ]
  },
  {
   "cell_type": "code",
   "execution_count": 71,
   "metadata": {},
   "outputs": [],
   "source": [
    "del model,pred,y_test,X_test,Y_test,Y_train,df,data,X_train,xgb_clf,new_df,df_train"
   ]
  }
 ],
 "metadata": {
  "kernelspec": {
   "display_name": "Python 3",
   "language": "python",
   "name": "python3"
  },
  "language_info": {
   "codemirror_mode": {
    "name": "ipython",
    "version": 3
   },
   "file_extension": ".py",
   "mimetype": "text/x-python",
   "name": "python",
   "nbconvert_exporter": "python",
   "pygments_lexer": "ipython3",
   "version": "3.6.9"
  }
 },
 "nbformat": 4,
 "nbformat_minor": 2
}
